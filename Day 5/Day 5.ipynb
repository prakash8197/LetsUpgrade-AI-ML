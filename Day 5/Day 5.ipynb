{
 "cells": [
  {
   "cell_type": "markdown",
   "metadata": {},
   "source": [
    "# Write a Python program to find the first 20 non-even prime natural numbers."
   ]
  },
  {
   "cell_type": "code",
   "execution_count": 34,
   "metadata": {},
   "outputs": [
    {
     "name": "stdout",
     "output_type": "stream",
     "text": [
      "3 5 7 11 13 17 19 23 29 31 37 41 43 47 53 59 61 67 71 73 "
     ]
    }
   ],
   "source": [
    "count = 1\n",
    "num = 2\n",
    "while count < 21:\n",
    "    for i in range(2,num):\n",
    "        if num%i == 0:\n",
    "            break\n",
    "    else:\n",
    "        if num%2!=0:\n",
    "            print(num,end=\" \")\n",
    "            count += 1\n",
    "    num += 1"
   ]
  },
  {
   "cell_type": "markdown",
   "metadata": {},
   "source": [
    "# Write a Python program to implement 15 functions of string."
   ]
  },
  {
   "cell_type": "code",
   "execution_count": 33,
   "metadata": {},
   "outputs": [
    {
     "name": "stdout",
     "output_type": "stream",
     "text": [
      "<class 'str'>\n",
      "Hello, My Name are Prakash Kumar Mudliyar \n",
      "HELLO, MY NAME IS PRAKASH KUMAR MUDLIYAR \n",
      "hello, my name is prakash kumar mudliyar \n",
      "24\n",
      "5\n",
      "False\n",
      "False\n",
      "gocorona#letsupgrade#python\n",
      "['Hello,', 'My', 'Name', 'is', 'Prakash', 'Kumar', 'Mudliyar']\n",
      "18\n",
      "False\n",
      "False\n",
      "                             Hello, My Name is Prakash Kumar Mudliyar                               \n",
      "Hello, my name is prakash kumar mudliyar \n"
     ]
    }
   ],
   "source": [
    "var1 = \"Hello, My Name is Prakash Kumar Mudliyar \"\n",
    "var2 = (\"gocorona\", \"letsupgrade\", \"python\")\n",
    "print(type(var1))\n",
    "print(var1.replace(\"is\",\"are\"))\n",
    "print(var1.upper())\n",
    "print(var1.lower())\n",
    "print(var1.find(\"h\"))\n",
    "print(var1.count(\"a\"))\n",
    "print(var1.isalnum())\n",
    "print(var1.isalpha())\n",
    "print(\"#\".join(var2))\n",
    "print(var1.split())\n",
    "print(var1.index(\"Prakash\"))\n",
    "print(var1.islower())\n",
    "print(var1.endswith(\"Mudliyar\"))\n",
    "print(var1.center(100))\n",
    "print(var1.capitalize())"
   ]
  },
  {
   "cell_type": "markdown",
   "metadata": {},
   "source": [
    "# Write a Python program to check if the given string is a Palindrome or Anagram or None of them. Display the message accordingly to the user."
   ]
  },
  {
   "cell_type": "code",
   "execution_count": 5,
   "metadata": {},
   "outputs": [
    {
     "name": "stdout",
     "output_type": "stream",
     "text": [
      "Enter 1st word: silent\n",
      "Enter 2nd word: listen\n",
      "The strings are anagrams.\n",
      "Enter a word to check if it is Palindrome: malayalam\n",
      "Yes it's a Palindrome\n"
     ]
    }
   ],
   "source": [
    "def check(s1, s2):  \n",
    "    if(sorted(s1)== sorted(s2)): \n",
    "        print(\"The strings are anagrams.\")  \n",
    "    else: \n",
    "        print(\"The strings aren't anagrams.\")          \n",
    "s1 =input(\"Enter 1st word: \")\n",
    "s2 =input(\"Enter 2nd word: \")\n",
    "check(s1, s2)\n",
    "\n",
    "def isPalindrome(s): \n",
    "    return s == s[::-1] \n",
    "s = input(\"Enter a word to check if it is Palindrome: \")\n",
    "ans = isPalindrome(s) \n",
    "  \n",
    "if ans: \n",
    "    print(\"Yes it's a Palindrome\") \n",
    "else: \n",
    "    print(\"No\")"
   ]
  },
  {
   "cell_type": "markdown",
   "metadata": {},
   "source": [
    "# Write a Python's user defined function that removes all the additional characters from the string and converts it finally to lower case using built-in lower(). eg: If the string is \"Dr. Darshan Ingle @AI-ML Trainer\", then the output be \"drdarshaningleaimltrainer\""
   ]
  },
  {
   "cell_type": "code",
   "execution_count": 23,
   "metadata": {},
   "outputs": [
    {
     "name": "stdout",
     "output_type": "stream",
     "text": [
      "$India Is MY Country.!!!\n",
      "IndiaIsMYCountry\n",
      "indiaismycountry\n"
     ]
    }
   ],
   "source": [
    "import re\n",
    "\n",
    "str = \"$India Is MY Country.!!!\"\n",
    "print(str)\n",
    "str1 = re.sub(r'[?|$|.|!| |]',r'',str)\n",
    "print(str1)\n",
    "print(str1.lower())\n"
   ]
  }
 ],
 "metadata": {
  "kernelspec": {
   "display_name": "Python 3",
   "language": "python",
   "name": "python3"
  },
  "language_info": {
   "codemirror_mode": {
    "name": "ipython",
    "version": 3
   },
   "file_extension": ".py",
   "mimetype": "text/x-python",
   "name": "python",
   "nbconvert_exporter": "python",
   "pygments_lexer": "ipython3",
   "version": "3.7.6"
  }
 },
 "nbformat": 4,
 "nbformat_minor": 4
}
