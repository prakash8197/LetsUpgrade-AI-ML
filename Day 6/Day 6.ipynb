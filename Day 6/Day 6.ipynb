{
 "cells": [
  {
   "cell_type": "markdown",
   "metadata": {},
   "source": [
    "# Assuming that we have some email addresses in the \"username@companyname.com\" format, please write program to print the company name of a given email address. Both user names and company names are composed of letters only."
   ]
  },
  {
   "cell_type": "code",
   "execution_count": 6,
   "metadata": {},
   "outputs": [
    {
     "name": "stdout",
     "output_type": "stream",
     "text": [
      "Enter the Email ID: Prakashmudliyar-st@adityabirla.com\n",
      "adityabirla"
     ]
    }
   ],
   "source": [
    "email=input(\"Enter the Email ID: \")\n",
    "\n",
    "add=email.index(\"@\")\n",
    "add1=email.index(\".\")\n",
    "print(email[add+1:add1],end='')"
   ]
  },
  {
   "cell_type": "markdown",
   "metadata": {},
   "source": [
    "# Write a program that accepts a comma-separated sequence of words as input and prints the words in a comma separated sequence after sorting them alphabetically."
   ]
  },
  {
   "cell_type": "code",
   "execution_count": 31,
   "metadata": {},
   "outputs": [
    {
     "name": "stdout",
     "output_type": "stream",
     "text": [
      "Enter The length of the list: 5\n",
      "Enter the list values: \n",
      "India\n",
      "Japan\n",
      "Chian\n",
      "Nepal\n",
      "USA\n",
      "['Chian', 'India', 'Japan', 'Nepal', 'USA']\n"
     ]
    }
   ],
   "source": [
    "list=[] \n",
    "number=int(input(\"Enter The length of the list: \"))\n",
    "print(\"Enter the list values: \")\n",
    "for i in range(number):\n",
    "    data=input()\n",
    "    list.append(data)\n",
    "print(sorted(list))"
   ]
  },
  {
   "cell_type": "markdown",
   "metadata": {},
   "source": [
    "# Create your own Jupyter Notebook for Sets."
   ]
  },
  {
   "cell_type": "code",
   "execution_count": 14,
   "metadata": {},
   "outputs": [
    {
     "name": "stdout",
     "output_type": "stream",
     "text": [
      "AI\n",
      "DL\n",
      "ML\n",
      "{'Python', 'AI', 'DL', 'ML'}\n",
      "{'Best', 'All', 'AI', 'The', 'ML', 'DL', 'Python'}\n"
     ]
    }
   ],
   "source": [
    "set1={\"AI\",\"ML\",\"DL\"}\n",
    "\n",
    "for x in set1:\n",
    "  print(x)\n",
    "set1.add(\"Python\")\n",
    "print(set1)\n",
    "set1.update([\"All\",\"The\",\"Best\"])\n",
    "print(set1)\n"
   ]
  },
  {
   "cell_type": "markdown",
   "metadata": {},
   "source": [
    "# Given a list of n-1 numbers ranging from 1 to n, your task is to find the missing number. There are no duplicates"
   ]
  },
  {
   "cell_type": "code",
   "execution_count": 27,
   "metadata": {},
   "outputs": [
    {
     "name": "stdout",
     "output_type": "stream",
     "text": [
      "[3, 5, 7, 8, 9, 11, 13]\n"
     ]
    }
   ],
   "source": [
    "a=[2,4,6,10,12,14]\n",
    "missing_element=[]\n",
    "for i in range(a[0], a[-1]+1):\n",
    "    if i not in a:\n",
    "        missing_element.append(i)\n",
    "\n",
    "print(missing_element)"
   ]
  },
  {
   "cell_type": "markdown",
   "metadata": {},
   "source": [
    "# With a given list L, write a program to print this list L after removing all duplicate values with original order reserved."
   ]
  },
  {
   "cell_type": "code",
   "execution_count": 40,
   "metadata": {},
   "outputs": [
    {
     "name": "stdout",
     "output_type": "stream",
     "text": [
      "Enter The length of the list: 8\n",
      "Enter your values: 10\n",
      "Enter your values: 100\n",
      "Enter your values: 10\n",
      "Enter your values: 20\n",
      "Enter your values: 20\n",
      "Enter your values: 60\n",
      "Enter your values: 50\n",
      "Enter your values: 50\n",
      "The list values entered by user:  [10, 100, 10, 20, 20, 60, 50, 50]\n",
      "Here are the non duplicate list values:  [10, 100, 20, 60, 50]\n"
     ]
    }
   ],
   "source": [
    "l=[]\n",
    "n=int(input(\"Enter The length of the list: \"))\n",
    "for i in range(0,n):\n",
    "    element=int(input(\"Enter your values: \"))\n",
    "    l.append(element)\n",
    "m=set()\n",
    "unique=[]\n",
    "for i in l:\n",
    "    if i not in m:\n",
    "        unique.append(i)\n",
    "        m.add(i)\n",
    "print(\"The list values entered by user: \",l)\n",
    "print(\"Here are the non duplicate list values: \",unique)"
   ]
  },
  {
   "cell_type": "code",
   "execution_count": null,
   "metadata": {},
   "outputs": [],
   "source": []
  }
 ],
 "metadata": {
  "kernelspec": {
   "display_name": "Python 3",
   "language": "python",
   "name": "python3"
  },
  "language_info": {
   "codemirror_mode": {
    "name": "ipython",
    "version": 3
   },
   "file_extension": ".py",
   "mimetype": "text/x-python",
   "name": "python",
   "nbconvert_exporter": "python",
   "pygments_lexer": "ipython3",
   "version": "3.7.6"
  }
 },
 "nbformat": 4,
 "nbformat_minor": 4
}
