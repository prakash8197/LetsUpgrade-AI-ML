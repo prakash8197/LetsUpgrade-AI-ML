{
 "cells": [
  {
   "cell_type": "markdown",
   "metadata": {},
   "source": [
    "# Write a program to subtract two complex numbers in Python"
   ]
  },
  {
   "cell_type": "code",
   "execution_count": 34,
   "metadata": {},
   "outputs": [
    {
     "name": "stdout",
     "output_type": "stream",
     "text": [
      "The addition of (8+4j) and (2+6j) is equals to (10+10j)\n"
     ]
    }
   ],
   "source": [
    "a=8+4j\n",
    "b=2+6j\n",
    "c=a+b\n",
    "print(\"The addition of\",a,\"and\",b,\"is equals to\",c)"
   ]
  },
  {
   "cell_type": "markdown",
   "metadata": {},
   "source": [
    "# Write a program to find the fourth root of a number"
   ]
  },
  {
   "cell_type": "code",
   "execution_count": 25,
   "metadata": {},
   "outputs": [
    {
     "name": "stdout",
     "output_type": "stream",
     "text": [
      "The fourth root pf 1296  is equals to 6.0\n"
     ]
    }
   ],
   "source": [
    "a=1296\n",
    "b=a**(1/4)\n",
    "print(\"The fourth root pf\",a,\"is equals to\",b)"
   ]
  },
  {
   "cell_type": "markdown",
   "metadata": {},
   "source": [
    "# Write a program to swap two numbers in Python with the help of a temporary variable."
   ]
  },
  {
   "cell_type": "code",
   "execution_count": 30,
   "metadata": {},
   "outputs": [
    {
     "name": "stdout",
     "output_type": "stream",
     "text": [
      "Before swapping a = 12  and b = 6\n",
      "After swappng a = 6  and b = 12\n"
     ]
    }
   ],
   "source": [
    "a=12\n",
    "b=6\n",
    "print(\"Before swapping a =\",a,\"and b =\",b)\n",
    "c=a\n",
    "a=b\n",
    "b=c\n",
    "print(\"After swappng a =\",a,\"and b =\",b)"
   ]
  },
  {
   "cell_type": "markdown",
   "metadata": {},
   "source": [
    "# Write a program to swap two numbers in Python without using a temporary variable."
   ]
  },
  {
   "cell_type": "code",
   "execution_count": 35,
   "metadata": {},
   "outputs": [
    {
     "name": "stdout",
     "output_type": "stream",
     "text": [
      "Before swapping a = 8 and b = 16\n",
      "After swappng a = 16 and b = 8\n"
     ]
    }
   ],
   "source": [
    "a=8\n",
    "b=16\n",
    "print(\"Before swapping a =\",a,\"and b =\",b)\n",
    "a,b=b,a\n",
    "print(\"After swappng a =\",a,\"and b =\",b)"
   ]
  },
  {
   "cell_type": "markdown",
   "metadata": {},
   "source": [
    "# Write a program to convert fahrenheit to kelvin and celsius both."
   ]
  },
  {
   "cell_type": "code",
   "execution_count": 36,
   "metadata": {},
   "outputs": [
    {
     "name": "stdout",
     "output_type": "stream",
     "text": [
      "The conversion of 144 Fahrenheit to Celsius and Kelvin is 62.22222222222222 and 30655.02222222222  respectively\n"
     ]
    }
   ],
   "source": [
    "F=144\n",
    "C=(144-32)*5/9\n",
    "K=(144-32)*(5/9+273.15)\n",
    "print(\"The conversion of\",F,\"Fahrenheit to Celsius and Kelvin is\",C,\"and\",K,\" respectively\")"
   ]
  },
  {
   "cell_type": "markdown",
   "metadata": {},
   "source": [
    "# Write a program to demonstrate all the available data types in Python. Hint: Use type() function."
   ]
  },
  {
   "cell_type": "code",
   "execution_count": 37,
   "metadata": {},
   "outputs": [
    {
     "name": "stdout",
     "output_type": "stream",
     "text": [
      "<class 'int'>\n",
      "<class 'float'>\n",
      "<class 'str'>\n",
      "<class 'tuple'>\n",
      "<class 'list'>\n",
      "<class 'dict'>\n"
     ]
    }
   ],
   "source": [
    "a=25\n",
    "b=18.23\n",
    "c=\"My Name is Prakash\"\n",
    "d=(1,2,3,4)\n",
    "e=[\"a\",\"b\",\"c\"]\n",
    "f={\"Breakfast\":\"Egg Bread\",\"Lunch\":\"Dal rice\",\"Dinner\":\"Chicken Fried rice\"}\n",
    "print(type(a))\n",
    "print(type(b))\n",
    "print(type(c))\n",
    "print(type(d))\n",
    "print(type(e))\n",
    "print(type(f))"
   ]
  },
  {
   "cell_type": "markdown",
   "metadata": {},
   "source": [
    "# Create a Markdown cell in jupyter and list the steps discussed in the session by Dr. Darshan Ingle sir to create Github profile and upload Githubs Assignment link."
   ]
  },
  {
   "cell_type": "markdown",
   "metadata": {},
   "source": [
    "Steps folows as below.\n",
    "1. Open Github and signup with the same email which is with letsupgrade.\n",
    "2. Create a new Repository with the name \"LetsUpgrade-AI-ML\" in public.\n",
    "3. Open the Repository and click on upload an existing file and select the folder of the assignment "
   ]
  }
 ],
 "metadata": {
  "kernelspec": {
   "display_name": "Python 3",
   "language": "python",
   "name": "python3"
  },
  "language_info": {
   "codemirror_mode": {
    "name": "ipython",
    "version": 3
   },
   "file_extension": ".py",
   "mimetype": "text/x-python",
   "name": "python",
   "nbconvert_exporter": "python",
   "pygments_lexer": "ipython3",
   "version": "3.7.6"
  }
 },
 "nbformat": 4,
 "nbformat_minor": 4
}
